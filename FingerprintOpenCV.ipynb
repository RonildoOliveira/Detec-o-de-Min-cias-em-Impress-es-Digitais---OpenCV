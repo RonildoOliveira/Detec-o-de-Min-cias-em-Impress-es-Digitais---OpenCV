{
 "cells": [
  {
   "cell_type": "markdown",
   "metadata": {},
   "source": [
    "## Bla bla bla"
   ]
  },
  {
   "cell_type": "code",
   "execution_count": 89,
   "metadata": {},
   "outputs": [],
   "source": [
    "# !/usr/bin/python\n",
    "\n",
    "import cv2\n",
    "import numpy as np\n",
    "import os\n",
    "\n",
    "import pandas as pd\n",
    "import csv\n",
    "\n",
    "import pandas as pd\n",
    "import matplotlib.pyplot as plt\n",
    "import seaborn as sns\n",
    "\n",
    "nome_pasta = \"fig\"\n",
    "nome_pasta_saida = \"output\"\n",
    "\n",
    "mindtct_path = \"bin/./mindtct\"\n",
    "nfiq_path = \"bin/./nfiq \"\n",
    "nfiq2_path = \"bin/./nfiq2 \"\n",
    "\n",
    "lista_nome_imagens = []\n",
    "lista_filtro_imagens = []\n",
    "lista_numero_minucias = []\n",
    "\n",
    "lista_nfiq_score = []\n",
    "lista_nfiq2_score = []\n"
   ]
  },
  {
   "cell_type": "markdown",
   "metadata": {},
   "source": [
    "Limpar pasta de saida"
   ]
  },
  {
   "cell_type": "code",
   "execution_count": 93,
   "metadata": {},
   "outputs": [],
   "source": [
    "def remove_all_files_output_folder():\n",
    "    for root, dirs, files in os.walk(nome_pasta_saida, topdown=False):\n",
    "        for name in files:\n",
    "            os.remove(os.path.join(root, name))"
   ]
  },
  {
   "cell_type": "markdown",
   "metadata": {},
   "source": [
    "Imagem, limiar..."
   ]
  },
  {
   "cell_type": "code",
   "execution_count": 80,
   "metadata": {},
   "outputs": [],
   "source": [
    "def save_many_thresholds(image_path):\n",
    "\timg = cv2.imread(image_path, 0)\n",
    "\t\n",
    "\tret,thresh1 = cv2.threshold(img,127,255,cv2.THRESH_BINARY)\n",
    "\tcv2.imwrite(image_path[:-4]+'[BINA].png',thresh1)\n",
    "\t\n",
    "\tret,thresh2 = cv2.threshold(img,127,255,cv2.THRESH_BINARY_INV)\n",
    "\tcv2.imwrite(image_path[:-4]+'[BINV].png',thresh2)\n",
    "\t\n",
    "\tret,thresh3 = cv2.threshold(img,127,255,cv2.THRESH_TRUNC)\n",
    "\tcv2.imwrite(image_path[:-4]+'[TRUC].png',thresh3)\n",
    "\t\n",
    "\tret,thresh4 = cv2.threshold(img,127,255,cv2.THRESH_TOZERO)\n",
    "\tcv2.imwrite(image_path[:-4]+'[TZER].png',thresh4)\n",
    "\t\n",
    "\tret,thresh5 = cv2.threshold(img,127,255,cv2.THRESH_TOZERO_INV)\n",
    "\tcv2.imwrite(image_path[:-4]+'[TOZI].png',thresh5)"
   ]
  },
  {
   "cell_type": "markdown",
   "metadata": {},
   "source": [
    "Nfiq"
   ]
  },
  {
   "cell_type": "code",
   "execution_count": 81,
   "metadata": {},
   "outputs": [],
   "source": [
    "def calculate_nfiq_score(image_path):\n",
    "    command = str(nfiq_path+image_path)\n",
    "    score = os.popen(command).readlines()[0]\n",
    "    return int(score)"
   ]
  },
  {
   "cell_type": "markdown",
   "metadata": {},
   "source": [
    "Nfiq2"
   ]
  },
  {
   "cell_type": "code",
   "execution_count": 82,
   "metadata": {},
   "outputs": [],
   "source": [
    "def calculate_nfiq2_score(image_path):\n",
    "    command = str(nfiq2_path+image_path)\n",
    "    score = os.popen(command).readlines()[0]\n",
    "    return int(score)"
   ]
  },
  {
   "cell_type": "markdown",
   "metadata": {},
   "source": [
    "NBIS...."
   ]
  },
  {
   "cell_type": "code",
   "execution_count": 83,
   "metadata": {},
   "outputs": [],
   "source": [
    "def min_to_minutiae_number(min_file):\n",
    "\tf = open(min_file)\n",
    "\t# use readline() to read the first line \n",
    "\tline = f.readline()\n",
    "\tc = 1\n",
    "\twhile line:\n",
    "\t    line = f.readline()\n",
    "\t    c = c + 1\n",
    "\t    if(c == 3):\n",
    "\t    \tquantidade_minucias = line\n",
    "\t    \tbreak\n",
    "\tf.close()\n",
    "\treturn int(quantidade_minucias.split()[0])"
   ]
  },
  {
   "cell_type": "markdown",
   "metadata": {},
   "source": [
    "Segmentacao de imagens"
   ]
  },
  {
   "cell_type": "code",
   "execution_count": 84,
   "metadata": {},
   "outputs": [],
   "source": [
    "for root, dirs, files in os.walk(nome_pasta, topdown=False):\n",
    "   \tfor name in files:\n",
    "   \t\tsave_many_thresholds(str(os.path.join(root, name)))"
   ]
  },
  {
   "cell_type": "markdown",
   "metadata": {},
   "source": [
    "Nfiq Score"
   ]
  },
  {
   "cell_type": "code",
   "execution_count": 85,
   "metadata": {},
   "outputs": [],
   "source": [
    "for root, dirs, files in os.walk(nome_pasta, topdown=False):\n",
    "   \tfor name in files:   \t\t\n",
    "   \t\tlista_nfiq_score.append(calculate_nfiq_score(os.path.join(root, name)))\n",
    "   \t\tlista_nfiq2_score.append(calculate_nfiq2_score(os.path.join(root, name)))"
   ]
  },
  {
   "cell_type": "markdown",
   "metadata": {},
   "source": [
    "Detecção de minucias"
   ]
  },
  {
   "cell_type": "code",
   "execution_count": 86,
   "metadata": {},
   "outputs": [],
   "source": [
    "for root, dirs, files in os.walk(nome_pasta, topdown=False):\n",
    "   \tfor name in files:\n",
    "   \t\tcommand = ' '.join([str(mindtct_path), '-m1', str(os.path.join(root, name)), str(os.path.join(nome_pasta_saida, name))])\n",
    "   \t\tos.system(command)"
   ]
  },
  {
   "cell_type": "markdown",
   "metadata": {},
   "source": [
    "Limpa"
   ]
  },
  {
   "cell_type": "code",
   "execution_count": 87,
   "metadata": {},
   "outputs": [],
   "source": [
    "for root, dirs, files in os.walk(nome_pasta_saida, topdown=False):\n",
    "   \tfor name in files:\n",
    "   \t\tif name.endswith('.min'):\n",
    "   \t\t\t#print(min_to_minutiae_number(os.path.join(root, name)))\n",
    "   \t\t\tlista_nome_imagens.append(name)\n",
    "   \t\t\tif('[BINA].png' in name):\n",
    "   \t\t\t\tlista_filtro_imagens.append('Binary')\n",
    "   \t\t\telif('[BINV].png' in name):\n",
    "   \t\t\t\tlista_filtro_imagens.append('Binary Invert')\n",
    "   \t\t\telif('[TRUC].png' in name):\n",
    "   \t\t\t\tlista_filtro_imagens.append('Trunc')\n",
    "   \t\t\telif('[TZER].png' in name):\n",
    "   \t\t\t\tlista_filtro_imagens.append('Thresh to Zero')\n",
    "   \t\t\telif('[TOZI].png' in name):\n",
    "   \t\t\t\tlista_filtro_imagens.append('Thresh to Zero Invert')\n",
    "   \t\t\telse:\n",
    "\t\t\t   \tlista_filtro_imagens.append('No Filter')\t\t\t\n",
    "   \t\t\tlista_numero_minucias.append(min_to_minutiae_number(os.path.join(root, name)))\n",
    "   \t\telse:\n",
    "   \t\t\tos.remove(os.path.join(root, name))"
   ]
  },
  {
   "cell_type": "markdown",
   "metadata": {},
   "source": [
    "Dataframes"
   ]
  },
  {
   "cell_type": "code",
   "execution_count": 88,
   "metadata": {},
   "outputs": [
    {
     "data": {
      "image/png": "[encoded data removed]",
      "text/plain": [
       "<matplotlib.figure.Figure at 0x7f1d884d3780>"
      ]
     },
     "metadata": {},
     "output_type": "display_data"
    }
   ],
   "source": [
    "#columns = ['nome','filtro','minucias','nfiq','nfiq2']\n",
    "columns = ['nome','filtro','minucias', 'nfiq','nfiq2']\n",
    "\n",
    "df = pd.DataFrame(columns=columns)\n",
    "\n",
    "df['nome'] = lista_nome_imagens\n",
    "df['filtro'] = lista_filtro_imagens\n",
    "df['minucias'] = lista_numero_minucias\n",
    "df['nfiq'] = lista_nfiq_score\n",
    "df['nfiq2'] = lista_nfiq2_score\n",
    "\n",
    "df.to_csv('data_frame.csv')\n",
    "\n",
    "df.shape\n",
    "df.groupby(['filtro', 'nome'], as_index=True).mean().groupby('filtro')['minucias'].mean()\n",
    "\n",
    "plt.figure(figsize=(15,8))\n",
    "sns.set_style('whitegrid')\n",
    "sns.barplot('filtro', 'minucias', data=df, ci=0, palette=\"Greys\")\n",
    "plt.show()"
   ]
  },
  {
   "cell_type": "code",
   "execution_count": null,
   "metadata": {},
   "outputs": [],
   "source": []
  }
 ],
 "metadata": {
  "kernelspec": {
   "display_name": "Python 3",
   "language": "python",
   "name": "python3"
  },
  "language_info": {
   "codemirror_mode": {
    "name": "ipython",
    "version": 3
   },
   "file_extension": ".py",
   "mimetype": "text/x-python",
   "name": "python",
   "nbconvert_exporter": "python",
   "pygments_lexer": "ipython3",
   "version": "3.5.2"
  }
 },
 "nbformat": 4,
 "nbformat_minor": 2
}
