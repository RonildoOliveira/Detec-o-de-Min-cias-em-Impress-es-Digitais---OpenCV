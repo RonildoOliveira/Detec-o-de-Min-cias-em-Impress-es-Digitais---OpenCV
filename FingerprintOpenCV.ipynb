{
 "cells": [
  {
   "cell_type": "markdown",
   "metadata": {},
   "source": [
    "## Bla bla bla"
   ]
  },
  {
   "cell_type": "code",
   "execution_count": 1,
   "metadata": {},
   "outputs": [],
   "source": [
    "# !/usr/bin/python\n",
    "\n",
    "import cv2\n",
    "import numpy as np\n",
    "import os\n",
    "\n",
    "import pandas as pd\n",
    "import csv\n",
    "\n",
    "import pandas as pd\n",
    "import matplotlib.pyplot as plt\n",
    "import seaborn as sns\n",
    "\n",
    "nome_pasta = \"fig\"\n",
    "mindtct_path = \"./mindtct\"\n",
    "nome_pasta_saida = \"output\"\n",
    "\n",
    "lista_nome_imagens = []\n",
    "lista_filtro_imagens = []\n",
    "lista_numero_minucias = []\n"
   ]
  },
  {
   "cell_type": "markdown",
   "metadata": {},
   "source": [
    "Imagem, limiar..."
   ]
  },
  {
   "cell_type": "code",
   "execution_count": 2,
   "metadata": {},
   "outputs": [],
   "source": [
    "def save_many_thresholds(image_path):\n",
    "\timg = cv2.imread(image_path, 0)\n",
    "\t\n",
    "\tret,thresh1 = cv2.threshold(img,127,255,cv2.THRESH_BINARY)\n",
    "\tcv2.imwrite(image_path[:-4]+'[BINA].png',thresh1)\n",
    "\t\n",
    "\tret,thresh2 = cv2.threshold(img,127,255,cv2.THRESH_BINARY_INV)\n",
    "\tcv2.imwrite(image_path[:-4]+'[BINV].png',thresh2)\n",
    "\t\n",
    "\tret,thresh3 = cv2.threshold(img,127,255,cv2.THRESH_TRUNC)\n",
    "\tcv2.imwrite(image_path[:-4]+'[TRUC].png',thresh3)\n",
    "\t\n",
    "\tret,thresh4 = cv2.threshold(img,127,255,cv2.THRESH_TOZERO)\n",
    "\tcv2.imwrite(image_path[:-4]+'[TZER].png',thresh4)\n",
    "\t\n",
    "\tret,thresh5 = cv2.threshold(img,127,255,cv2.THRESH_TOZERO_INV)\n",
    "\tcv2.imwrite(image_path[:-4]+'[TOZI].png',thresh5)"
   ]
  },
  {
   "cell_type": "markdown",
   "metadata": {},
   "source": [
    "NBIS...."
   ]
  },
  {
   "cell_type": "code",
   "execution_count": 3,
   "metadata": {},
   "outputs": [],
   "source": [
    "def min_to_minutiae_number(min_file):\n",
    "\tf = open(min_file)\n",
    "\t# use readline() to read the first line \n",
    "\tline = f.readline()\n",
    "\tc = 1\n",
    "\twhile line:\n",
    "\t    line = f.readline()\n",
    "\t    c = c + 1\n",
    "\t    if(c == 3):\n",
    "\t    \tquantidade_minucias = line\n",
    "\t    \tbreak\n",
    "\tf.close()\n",
    "\treturn int(quantidade_minucias.split()[0])"
   ]
  },
  {
   "cell_type": "markdown",
   "metadata": {},
   "source": [
    "Segmentacao de imagens"
   ]
  },
  {
   "cell_type": "code",
   "execution_count": 4,
   "metadata": {},
   "outputs": [],
   "source": [
    "for root, dirs, files in os.walk(nome_pasta, topdown=False):\n",
    "   \tfor name in files:\n",
    "   \t\tsave_many_thresholds(str(os.path.join(root, name)))"
   ]
  },
  {
   "cell_type": "markdown",
   "metadata": {},
   "source": [
    "Detecção de minucias"
   ]
  },
  {
   "cell_type": "code",
   "execution_count": 6,
   "metadata": {},
   "outputs": [],
   "source": [
    "for root, dirs, files in os.walk(nome_pasta, topdown=False):\n",
    "   \tfor name in files:\n",
    "   \t\tcommand = ' '.join([str(mindtct_path), '-m1', str(os.path.join(root, name)), str(os.path.join(nome_pasta_saida, name))])\n",
    "   \t\tos.system(command)"
   ]
  },
  {
   "cell_type": "markdown",
   "metadata": {},
   "source": [
    "Limpa"
   ]
  },
  {
   "cell_type": "code",
   "execution_count": 8,
   "metadata": {},
   "outputs": [],
   "source": [
    "for root, dirs, files in os.walk(nome_pasta_saida, topdown=False):\n",
    "   \tfor name in files:\n",
    "   \t\tif name.endswith('.min'):\n",
    "   \t\t\t#print(min_to_minutiae_number(os.path.join(root, name)))\n",
    "   \t\t\tlista_nome_imagens.append(name)\n",
    "   \t\t\tif('[BINA].png' in name):\n",
    "   \t\t\t\tlista_filtro_imagens.append('Binary')\n",
    "   \t\t\telif('[BINV].png' in name):\n",
    "   \t\t\t\tlista_filtro_imagens.append('Binary Invert')\n",
    "   \t\t\telif('[TRUC].png' in name):\n",
    "   \t\t\t\tlista_filtro_imagens.append('Trunc')\n",
    "   \t\t\telif('[TZER].png' in name):\n",
    "   \t\t\t\tlista_filtro_imagens.append('Thresh to Zero')\n",
    "   \t\t\telif('[TOZI].png' in name):\n",
    "   \t\t\t\tlista_filtro_imagens.append('Thresh to Zero Invert')\n",
    "   \t\t\telse:\n",
    "\t\t\t   \tlista_filtro_imagens.append('Normal')\t\t\t\n",
    "   \t\t\tlista_numero_minucias.append(min_to_minutiae_number(os.path.join(root, name)))\n",
    "   \t\telse:\n",
    "   \t\t\tos.remove(os.path.join(root, name))"
   ]
  },
  {
   "cell_type": "markdown",
   "metadata": {},
   "source": [
    "Dataframes"
   ]
  },
  {
   "cell_type": "code",
   "execution_count": 10,
   "metadata": {},
   "outputs": [
    {
     "name": "stdout",
     "output_type": "stream",
     "text": [
      "(24, 3)\n",
      "filtro\n",
      "Binary                    83.50\n",
      "Binary Invert             84.50\n",
      "Normal                   118.00\n",
      "Thresh to Zero            89.25\n",
      "Thresh to Zero Invert    154.75\n",
      "Trunc                     86.50\n",
      "Name: minucias, dtype: float64\n"
     ]
    },
    {
     "data": {
      "image/png": "[encoded data removed]",
      "text/plain": [
       "<matplotlib.figure.Figure at 0x7fc7ec28fd30>"
      ]
     },
     "metadata": {},
     "output_type": "display_data"
    }
   ],
   "source": [
    "columns = ['nome','filtro','minucias']\n",
    "\n",
    "df = pd.DataFrame(columns=columns)\n",
    "\n",
    "df['nome'] = lista_nome_imagens\n",
    "df['filtro'] = lista_filtro_imagens\n",
    "df['minucias'] = lista_numero_minucias\n",
    "df.to_csv('data_frame.csv')\n",
    "\n",
    "print(df.shape)\n",
    "print(df.groupby(['filtro', 'nome'], as_index=True).mean().groupby('filtro')['minucias'].mean())\n",
    "\n",
    "sns.barplot('filtro', 'minucias', data=df, ci=68)\n",
    "plt.show()"
   ]
  },
  {
   "cell_type": "code",
   "execution_count": null,
   "metadata": {},
   "outputs": [],
   "source": []
  }
 ],
 "metadata": {
  "kernelspec": {
   "display_name": "Python 3",
   "language": "python",
   "name": "python3"
  },
  "language_info": {
   "codemirror_mode": {
    "name": "ipython",
    "version": 3
   },
   "file_extension": ".py",
   "mimetype": "text/x-python",
   "name": "python",
   "nbconvert_exporter": "python",
   "pygments_lexer": "ipython3",
   "version": "3.5.2"
  }
 },
 "nbformat": 4,
 "nbformat_minor": 2
}
