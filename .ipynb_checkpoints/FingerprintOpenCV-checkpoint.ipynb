{
 "cells": [
  {
   "cell_type": "markdown",
   "metadata": {},
   "source": [
    "### Proposta de Melhoria na Detecção de Minúcias em Impressões Digitais Pelo NBIS Através de Algoritmos de Visão Computacional\n",
    "\n",
    "Embora as técnicas de representação individual continuem sendo aprimoradas, como reconhecimento de íris, voz e rosto. Reconhecimento de impressão digital ainda é um meio bastante comum no dia-a-dia, como em celulares, computadores, caixas eletrônicos, etc. Cada impressão digital é única e essa unicidade deve ser comprovada e comparada para que o acesso seja autenticado ou negado em caso de fraude, por exemplo. Os meios para que essa verificação seja feita é dada pela posição e tipo de minúcias detectadas numa impressão, nesse ambiente, quanto maior a quantidade e qualidade, melhor o resultado. Este meta-artigo propõe um método para aumentar a quantidade de minúcias detectadas pelo software NBIS através de algoritmos de visão computacional aplicadas as impressões digitais escaneadas."
   ]
  },
  {
   "cell_type": "code",
   "execution_count": 1,
   "metadata": {},
   "outputs": [
    {
     "ename": "ImportError",
     "evalue": "No module named pandas",
     "output_type": "error",
     "traceback": [
      "\u001b[0;31m---------------------------------------------------------------------------\u001b[0m",
      "\u001b[0;31mImportError\u001b[0m                               Traceback (most recent call last)",
      "\u001b[0;32m<ipython-input-1-6e229bd68674>\u001b[0m in \u001b[0;36m<module>\u001b[0;34m()\u001b[0m\n\u001b[1;32m      5\u001b[0m \u001b[0;32mimport\u001b[0m \u001b[0mos\u001b[0m\u001b[0;34m\u001b[0m\u001b[0m\n\u001b[1;32m      6\u001b[0m \u001b[0;34m\u001b[0m\u001b[0m\n\u001b[0;32m----> 7\u001b[0;31m \u001b[0;32mimport\u001b[0m \u001b[0mpandas\u001b[0m \u001b[0;32mas\u001b[0m \u001b[0mpd\u001b[0m\u001b[0;34m\u001b[0m\u001b[0m\n\u001b[0m\u001b[1;32m      8\u001b[0m \u001b[0;32mimport\u001b[0m \u001b[0mcsv\u001b[0m\u001b[0;34m\u001b[0m\u001b[0m\n\u001b[1;32m      9\u001b[0m \u001b[0;34m\u001b[0m\u001b[0m\n",
      "\u001b[0;31mImportError\u001b[0m: No module named pandas"
     ]
    }
   ],
   "source": [
    "# !/usr/bin/python\n",
    "\n",
    "import cv2\n",
    "import numpy as np\n",
    "import os\n",
    "\n",
    "import pandas as pd\n",
    "import csv\n",
    "\n",
    "import matplotlib.pyplot as plt\n",
    "import seaborn as sns\n",
    "\n",
    "import datetime\n",
    "\n",
    "nome_pasta = \"fig\"\n",
    "nome_pasta_saida = \"output\"\n",
    "\n",
    "mindtct_path = \"bin/./mindtct\"\n",
    "nfiq_path = \"bin/./nfiq \"\n",
    "nfiq2_path = \"bin/./nfiq2 \"\n",
    "\n",
    "lista_nome_imagens = []\n",
    "lista_filtro_imagens = []\n",
    "lista_numero_minucias = []\n",
    "\n",
    "lista_nfiq_score = []\n",
    "lista_nfiq2_score = []\n",
    "\n",
    "lista_quality_map = []"
   ]
  },
  {
   "cell_type": "markdown",
   "metadata": {},
   "source": [
    "#### Limpar pasta de saida\n",
    "Todos os arquivos da pasta `output` serão apagados."
   ]
  },
  {
   "cell_type": "code",
   "execution_count": null,
   "metadata": {},
   "outputs": [],
   "source": [
    "def remove_all_files_output_folder():\n",
    "    for root, dirs, files in os.walk(nome_pasta_saida, topdown=False):\n",
    "        for name in files:\n",
    "            os.remove(os.path.join(root, name))"
   ]
  },
  {
   "cell_type": "markdown",
   "metadata": {},
   "source": [
    "#### Aplicação de filtros de limiar as imagens de impressão digital\n",
    "A função seguinte recebe o diretório de uma imagem e aplica cada um dos seguintes filtros salvando as alterações.\n",
    "\n",
    "Filtros:\n",
    "- Binary\n",
    "- Binary Invert\n",
    "- Trunc \n",
    "- Thresh to Zero\n",
    "- Thresh to Zero Invert\n",
    "- No Filter\n",
    "\n",
    "A quantidade de imagens na pasta `fig` deverá ser `6n`, onde `n` é a quantidade inicial."
   ]
  },
  {
   "cell_type": "code",
   "execution_count": null,
   "metadata": {},
   "outputs": [],
   "source": [
    "def save_many_thresholds(image_path):\n",
    "    img = cv2.imread(image_path, 0)\n",
    "    \n",
    "    ret,thresh1 = cv2.threshold(img,127,255,cv2.THRESH_BINARY)\n",
    "    cv2.imwrite(image_path[:-4]+'[BINA].png',thresh1)\n",
    "    \n",
    "    ret,thresh2 = cv2.threshold(img,127,255,cv2.THRESH_BINARY_INV)\n",
    "    cv2.imwrite(image_path[:-4]+'[BINV].png',thresh2)\n",
    "    \n",
    "    ret,thresh3 = cv2.threshold(img,127,255,cv2.THRESH_TRUNC)\n",
    "    cv2.imwrite(image_path[:-4]+'[TRUC].png',thresh3)\n",
    "    \n",
    "    ret,thresh4 = cv2.threshold(img,127,255,cv2.THRESH_TOZERO)\n",
    "    cv2.imwrite(image_path[:-4]+'[TZER].png',thresh4)\n",
    "    \n",
    "    ret,thresh5 = cv2.threshold(img,127,255,cv2.THRESH_TOZERO_INV)\n",
    "    cv2.imwrite(image_path[:-4]+'[TOZI].png',thresh5)"
   ]
  },
  {
   "cell_type": "markdown",
   "metadata": {},
   "source": [
    "#### NFIQ Score\n",
    "Para executar, use o seguinte comando:\n",
    "`nifq nome_imagem.png`\n",
    "O retorno da função será a qualidade da imagem, valor discreto entre `[1-5]`."
   ]
  },
  {
   "cell_type": "code",
   "execution_count": null,
   "metadata": {},
   "outputs": [],
   "source": [
    "def calculate_nfiq_score(image_path):\n",
    "    command = str(nfiq_path+image_path)\n",
    "    try:\n",
    "        score = os.popen(command).readlines()[0]\n",
    "    except:\n",
    "        return 0\n",
    "    return int(score)"
   ]
  },
  {
   "cell_type": "markdown",
   "metadata": {},
   "source": [
    "#### NFIQ2 Score\n",
    "Para executar, use o seguinte comando:\n",
    "`nifq2 nome_imagem.png`\n",
    "O retorno da função será a qualidade da imagem, valor discreto entre `[0-100]` ou `255` em caso de erro de computação."
   ]
  },
  {
   "cell_type": "code",
   "execution_count": null,
   "metadata": {},
   "outputs": [],
   "source": [
    "def calculate_nfiq2_score(image_path):\n",
    "    command = str(nfiq2_path+image_path)\n",
    "    try:\n",
    "        score = os.popen(command).readlines()[0]\n",
    "    except:\n",
    "        return 1\n",
    "    return int(score)"
   ]
  },
  {
   "cell_type": "markdown",
   "metadata": {},
   "source": [
    "#### Arquivo de Minúcia para Inteiro\n",
    "Para cada arquivo de minúcia `.min` gerado, extrai-se apenas a informação de quantas descrições de minúcias aquele arquivo possui."
   ]
  },
  {
   "cell_type": "code",
   "execution_count": null,
   "metadata": {},
   "outputs": [],
   "source": [
    "def min_to_minutiae_number(min_file):\n",
    "    f = open(min_file)\n",
    "    # use readline() to read the first line \n",
    "    line = f.readline()\n",
    "    c = 1\n",
    "    while line:\n",
    "        line = f.readline()\n",
    "        c = c + 1\n",
    "        if(c == 3):\n",
    "            quantidade_minucias = line\n",
    "            break\n",
    "    f.close()\n",
    "    return int(quantidade_minucias.split()[0])"
   ]
  },
  {
   "cell_type": "markdown",
   "metadata": {},
   "source": [
    "#### Quality Map"
   ]
  },
  {
   "cell_type": "code",
   "execution_count": null,
   "metadata": {},
   "outputs": [],
   "source": [
    "def minutiae_quality_map(qm_file):\n",
    "    f = open(qm_file)\n",
    "    line = f.readline()\n",
    "    map_quality = line\n",
    "\n",
    "    while line:\n",
    "        line = f.readline()\n",
    "        map_quality = map_quality + line\n",
    "    f.close()\n",
    "    \n",
    "    str_lista_map_quality = map_quality.split(' ')\n",
    "    int_lista_map_quality = []\n",
    "\n",
    "    for i in str_lista_map_quality:\n",
    "        if(str(i).isdigit()):\n",
    "            int_lista_map_quality.append(int(i))\n",
    "\n",
    "    media = sum(int_lista_map_quality) / float(len(int_lista_map_quality))\n",
    "    return media"
   ]
  },
  {
   "cell_type": "markdown",
   "metadata": {},
   "source": [
    "#### Aplicação de filtros de limiar as imagens de impressão digital (Batch)\n",
    "Para cada imagem da pasta `fig`, cada um dos seguintes filtros serão aplicados e salvos:"
   ]
  },
  {
   "cell_type": "code",
   "execution_count": null,
   "metadata": {},
   "outputs": [],
   "source": [
    "for root, dirs, files in os.walk(nome_pasta, topdown=False):\n",
    "    for name in files:\n",
    "        save_many_thresholds(str(os.path.join(root, name))) "
   ]
  },
  {
   "cell_type": "markdown",
   "metadata": {},
   "source": [
    "#### NFIQ e NFIQ2 Score (Batch)\n",
    "Para cada imagem gerada, executa as funções de score do NFIQ e NFIQ2:\n"
   ]
  },
  {
   "cell_type": "code",
   "execution_count": null,
   "metadata": {
    "scrolled": true
   },
   "outputs": [],
   "source": [
    "for root, dirs, files in os.walk(nome_pasta, topdown=False):\n",
    "    for name in files:\n",
    "        lista_nfiq_score.append(calculate_nfiq_score(os.path.join(root, name)))\n",
    "        lista_nfiq2_score.append(calculate_nfiq2_score(os.path.join(root, name)))"
   ]
  },
  {
   "cell_type": "markdown",
   "metadata": {},
   "source": [
    "#### Detecção de minucias pelo NBIS\n",
    "Para cada imagem gerada, executar o seguinte comando:\n",
    "`mindtct -m1 nome_imagem.png output`\n",
    "Após a shamada serão gerados alguns arquivos na pasta `output`, na qual, apenas o arquivo com extensão `.min` será útil nesse cenário.\n"
   ]
  },
  {
   "cell_type": "code",
   "execution_count": null,
   "metadata": {},
   "outputs": [],
   "source": [
    "for root, dirs, files in os.walk(nome_pasta, topdown=False):\n",
    "    for name in files:\n",
    "        command = ' '.join([str(mindtct_path), '-m1', str(os.path.join(root, name)), str(os.path.join(nome_pasta_saida, name))])\n",
    "        os.system(command)"
   ]
  },
  {
   "cell_type": "markdown",
   "metadata": {},
   "source": [
    "#### Remoção de Arquivos que não possuem informações das minúcias\n",
    "Todos os arquivos que não possuem a extensão `.min` são removidos. Aqueles que possuem, tem seus nomes de filtro e quantidade de minúcias salvas numa estrutura."
   ]
  },
  {
   "cell_type": "code",
   "execution_count": null,
   "metadata": {},
   "outputs": [],
   "source": [
    "for root, dirs, files in os.walk(nome_pasta_saida, topdown=False):\n",
    "    for name in files:\n",
    "        if name.endswith('.min'):\n",
    "            #print(min_to_minutiae_number(os.path.join(root, name)))\n",
    "            lista_nome_imagens.append(name)\n",
    "            if('[BINA].png' in name):\n",
    "                lista_filtro_imagens.append('Binary')\n",
    "            elif('[BINV].png' in name):\n",
    "                lista_filtro_imagens.append('Binary Invert')\n",
    "            elif('[TRUC].png' in name):\n",
    "                lista_filtro_imagens.append('Trunc')\n",
    "            elif('[TZER].png' in name):\n",
    "                lista_filtro_imagens.append('Thresh to Zero')\n",
    "            elif('[TOZI].png' in name):\n",
    "                lista_filtro_imagens.append('Thresh to Zero Invert')\n",
    "            else:\n",
    "                lista_filtro_imagens.append('No Filter')\n",
    "            lista_numero_minucias.append(min_to_minutiae_number(os.path.join(root, name)))\n",
    "            \n",
    "        if name.endswith('.qm'):\n",
    "            lista_quality_map.append(minutiae_quality_map(os.path.join(root, name)))\n",
    "            \n",
    "        else:\n",
    "            os.remove(os.path.join(root, name))"
   ]
  },
  {
   "cell_type": "markdown",
   "metadata": {},
   "source": [
    "#### Dataframe\n",
    "Definição do dataframe:\n",
    "\n",
    "- `nome` nome da imagem + [FILTRO]\n",
    "- `filtro` nome do filtro ('Binary','Binary Invert','Trunc','Thresh to Zero','Thresh to Zero Invert','No Filter')\n",
    "- `minucias` quantidade de minúcias detectadas pelo NBIS\n",
    "- `nfiq` score gerado pelo NFIQ\n",
    "- `nfiq2` score gerado pelo NFIQ2"
   ]
  },
  {
   "cell_type": "code",
   "execution_count": null,
   "metadata": {},
   "outputs": [],
   "source": [
    "columns = ['nome','filtro','minucias','nfiq','nfiq2','qmap']\n",
    "\n",
    "df = pd.DataFrame(columns=columns)\n",
    "\n",
    "df['nome'] = lista_nome_imagens\n",
    "df['filtro'] = lista_filtro_imagens\n",
    "df['minucias'] = lista_numero_minucias\n",
    "df['nfiq'] = lista_nfiq_score\n",
    "df['nfiq2'] = lista_nfiq2_score\n",
    "df['qmap'] = lista_quality_map"
   ]
  },
  {
   "cell_type": "markdown",
   "metadata": {},
   "source": [
    "#### Manipulação de Dados (NBIS)\n",
    "Agrupamento por nome do filtro e quantidade total de minucias."
   ]
  },
  {
   "cell_type": "code",
   "execution_count": null,
   "metadata": {},
   "outputs": [],
   "source": [
    "import pandas as pd\n",
    "import csv\n",
    "\n",
    "import matplotlib.pyplot as plt\n",
    "import seaborn as sns\n",
    "\n",
    "df.to_csv('data_frame.csv')\n",
    "\n",
    "df.shape\n",
    "\n",
    "df.groupby(['filtro', 'nome'], as_index=True).mean().groupby('filtro')['minucias'].mean()\n",
    "\n",
    "plt.figure(figsize=(15,8))\n",
    "sns.set(font_scale=1.4)\n",
    "sns.set_style('whitegrid')\n",
    "sns.barplot('filtro', 'minucias', data=df, ci=0, palette=\"Greys\")\n",
    "\n",
    "plt.title('Relação entre Média de Minúcias por Filtro\\n', fontsize=20)\n",
    "plt.ylabel('Média de Minúcias\\n', fontsize=18)\n",
    "plt.xlabel('\\nFiltro de Imagem', fontsize=18)\n",
    "        \n",
    "plt.savefig(\"filtro_qt_minucias.pdf\", bbox_inches='tight')\n",
    "plt.show()"
   ]
  },
  {
   "cell_type": "markdown",
   "metadata": {},
   "source": [
    "#### Manipulação de Dados (NFIQ)\n",
    "Agrupamento por nome do filtro e média do NFIQ Score."
   ]
  },
  {
   "cell_type": "code",
   "execution_count": null,
   "metadata": {},
   "outputs": [],
   "source": [
    "import pandas as pd\n",
    "import csv\n",
    "\n",
    "import matplotlib.pyplot as plt\n",
    "import seaborn as sns\n",
    "\n",
    "df.to_csv('data_frame.csv')\n",
    "\n",
    "df.shape\n",
    "\n",
    "df.groupby(['filtro', 'nome'], as_index=True).mean().groupby('filtro')['nfiq'].mean()\n",
    "\n",
    "plt.figure(figsize=(15,8))\n",
    "sns.set(font_scale=1.4)\n",
    "sns.set_style('whitegrid')\n",
    "sns.barplot('filtro', 'nfiq', data=df, ci=0, palette=\"Greys\")\n",
    "\n",
    "plt.title('Relação entre Média do NFIQ Score por Filtro\\n', fontsize=20)\n",
    "plt.ylabel('Média do NFIQ Score\\n', fontsize=18)\n",
    "plt.xlabel('\\nFiltro de Imagem', fontsize=18)\n",
    "\n",
    "plt.savefig(\"filtro_nfiq_score.pdf\", bbox_inches='tight')\n",
    "plt.show()"
   ]
  },
  {
   "cell_type": "markdown",
   "metadata": {},
   "source": [
    "#### Manipulação de Dados (NFIQ2)\n",
    "Agrupamento por nome do filtro e média do NFIQ2 Score."
   ]
  },
  {
   "cell_type": "code",
   "execution_count": null,
   "metadata": {
    "scrolled": true
   },
   "outputs": [],
   "source": [
    "import pandas as pd\n",
    "import csv\n",
    "\n",
    "import matplotlib.pyplot as plt\n",
    "import seaborn as sns\n",
    "\n",
    "df.to_csv('data_frame.csv')\n",
    "\n",
    "df.shape\n",
    "\n",
    "df.groupby(['filtro', 'nome'], as_index=True).mean().groupby('filtro')['nfiq2'].mean()\n",
    "\n",
    "plt.figure(figsize=(15,8))\n",
    "sns.set(font_scale=1.4)\n",
    "sns.set_style('whitegrid')\n",
    "g = sns.barplot('filtro', 'nfiq2', data=df, ci=0, palette=\"Greys\")\n",
    "\n",
    "plt.title('Relação entre Média do NFIQ2 Score por Filtro\\n', fontsize=20)\n",
    "plt.ylabel('Média do NFIQ2 Score\\n', fontsize=18)\n",
    "plt.xlabel('\\nFiltro de Imagem', fontsize=18)\n",
    "\n",
    "plt.savefig(\"filtro_nfiq2_score.pdf\", bbox_inches='tight')    \n",
    "plt.show()"
   ]
  },
  {
   "cell_type": "markdown",
   "metadata": {},
   "source": [
    "#### Manipulação de Dados (Quality Map)\n",
    "Agrupamento por nome do filtro e média do Quality Map."
   ]
  },
  {
   "cell_type": "code",
   "execution_count": null,
   "metadata": {},
   "outputs": [],
   "source": [
    "import pandas as pd\n",
    "import csv\n",
    "\n",
    "import matplotlib.pyplot as plt\n",
    "import seaborn as sns\n",
    "\n",
    "df.to_csv('data_frame.csv')\n",
    "\n",
    "df.shape\n",
    "\n",
    "df.groupby(['filtro', 'nome'], as_index=True).mean().groupby('filtro')['qmap'].mean()\n",
    "\n",
    "plt.figure(figsize=(15,8))\n",
    "sns.set(font_scale=1.4)\n",
    "sns.set_style('whitegrid')\n",
    "g = sns.barplot('filtro', 'qmap', data=df, ci=0, palette=\"Greys\")\n",
    "\n",
    "plt.title('Relação entre Média do Quality Map e Filtro\\n', fontsize=20)\n",
    "plt.ylabel('Média do Quality Map\\n', fontsize=18)\n",
    "plt.xlabel('\\nFiltro de Imagem', fontsize=18)\n",
    "\n",
    "plt.savefig(\"filtro_qmap.pdf\", bbox_inches='tight')    \n",
    "plt.show()"
   ]
  },
  {
   "cell_type": "code",
   "execution_count": null,
   "metadata": {},
   "outputs": [],
   "source": []
  }
 ],
 "metadata": {
  "kernelspec": {
   "display_name": "Python 2",
   "language": "python",
   "name": "python2"
  },
  "language_info": {
   "codemirror_mode": {
    "name": "ipython",
    "version": 2
   },
   "file_extension": ".py",
   "mimetype": "text/x-python",
   "name": "python",
   "nbconvert_exporter": "python",
   "pygments_lexer": "ipython2",
   "version": "2.7.15rc1"
  }
 },
 "nbformat": 4,
 "nbformat_minor": 2
}
